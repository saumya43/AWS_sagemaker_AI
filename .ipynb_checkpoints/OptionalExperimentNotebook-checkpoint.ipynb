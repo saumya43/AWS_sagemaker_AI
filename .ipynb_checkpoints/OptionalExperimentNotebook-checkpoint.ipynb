{
 "cells": [
  {
   "cell_type": "code",
   "execution_count": 1,
   "id": "c8339c42-9338-4bf9-9ae9-5fb38896e472",
   "metadata": {},
   "outputs": [
    {
     "name": "stdout",
     "output_type": "stream",
     "text": [
      "Requirement already satisfied: transformers in /opt/conda/lib/python3.11/site-packages (4.49.0)\n",
      "Requirement already satisfied: filelock in /opt/conda/lib/python3.11/site-packages (from transformers) (3.17.0)\n",
      "Requirement already satisfied: huggingface-hub<1.0,>=0.26.0 in /opt/conda/lib/python3.11/site-packages (from transformers) (0.29.1)\n",
      "Requirement already satisfied: numpy>=1.17 in /opt/conda/lib/python3.11/site-packages (from transformers) (1.26.4)\n",
      "Requirement already satisfied: packaging>=20.0 in /opt/conda/lib/python3.11/site-packages (from transformers) (24.2)\n",
      "Requirement already satisfied: pyyaml>=5.1 in /opt/conda/lib/python3.11/site-packages (from transformers) (6.0.2)\n",
      "Requirement already satisfied: regex!=2019.12.17 in /opt/conda/lib/python3.11/site-packages (from transformers) (2024.11.6)\n",
      "Requirement already satisfied: requests in /opt/conda/lib/python3.11/site-packages (from transformers) (2.32.3)\n",
      "Requirement already satisfied: tokenizers<0.22,>=0.21 in /opt/conda/lib/python3.11/site-packages (from transformers) (0.21.0)\n",
      "Requirement already satisfied: safetensors>=0.4.1 in /opt/conda/lib/python3.11/site-packages (from transformers) (0.5.3)\n",
      "Requirement already satisfied: tqdm>=4.27 in /opt/conda/lib/python3.11/site-packages (from transformers) (4.67.1)\n",
      "Requirement already satisfied: fsspec>=2023.5.0 in /opt/conda/lib/python3.11/site-packages (from huggingface-hub<1.0,>=0.26.0->transformers) (2024.10.0)\n",
      "Requirement already satisfied: typing-extensions>=3.7.4.3 in /opt/conda/lib/python3.11/site-packages (from huggingface-hub<1.0,>=0.26.0->transformers) (4.12.2)\n",
      "Requirement already satisfied: charset_normalizer<4,>=2 in /opt/conda/lib/python3.11/site-packages (from requests->transformers) (3.4.1)\n",
      "Requirement already satisfied: idna<4,>=2.5 in /opt/conda/lib/python3.11/site-packages (from requests->transformers) (3.10)\n",
      "Requirement already satisfied: urllib3<3,>=1.21.1 in /opt/conda/lib/python3.11/site-packages (from requests->transformers) (2.3.0)\n",
      "Requirement already satisfied: certifi>=2017.4.17 in /opt/conda/lib/python3.11/site-packages (from requests->transformers) (2025.1.31)\n"
     ]
    }
   ],
   "source": [
    "! pip install transformers\n"
   ]
  },
  {
   "cell_type": "code",
   "execution_count": 2,
   "id": "56046b10-86b3-4b04-af44-0c9394ec8422",
   "metadata": {},
   "outputs": [
    {
     "name": "stderr",
     "output_type": "stream",
     "text": [
      "2025-04-01 18:43:15.569257: I tensorflow/core/platform/cpu_feature_guard.cc:210] This TensorFlow binary is optimized to use available CPU instructions in performance-critical operations.\n",
      "To enable the following instructions: SSE4.1 SSE4.2 AVX AVX2 AVX512F FMA, in other operations, rebuild TensorFlow with the appropriate compiler flags.\n"
     ]
    }
   ],
   "source": [
    "import torch\n",
    "import numpy as np\n",
    "from torch.utils.data import DataLoader, Dataset\n",
    "from transformers import DistilBertTokenizer, DistilBertModel\n",
    "from tqdm import tqdm\n",
    "import argparse\n",
    "import os\n",
    "import pandas as pd"
   ]
  },
  {
   "cell_type": "code",
   "execution_count": 7,
   "id": "b7e29db4-04ec-4606-9a6d-a1343439fd24",
   "metadata": {},
   "outputs": [
    {
     "name": "stdout",
     "output_type": "stream",
     "text": [
      "                                                    TITLE  CATEGORY\n",
      "0       Fed official says weak data caused by weather,...  Business\n",
      "1       Fed's Charles Plosser sees high bar for change...  Business\n",
      "2       US open: Stocks fall after Fed official hints ...  Business\n",
      "3       Fed risks falling 'behind the curve', Charles ...  Business\n",
      "4       Fed's Plosser: Nasty Weather Has Curbed Job Gr...  Business\n",
      "...                                                   ...       ...\n",
      "422414  Surgeons to remove 4-year-old's rib to rebuild...    Health\n",
      "422415  Boy to have surgery on esophagus after battery...    Health\n",
      "422416  Child who swallowed battery to have reconstruc...    Health\n",
      "422417  Phoenix boy undergoes surgery to repair throat...    Health\n",
      "422418  Phoenix boy undergoes surgery to repair throat...    Health\n",
      "\n",
      "[422419 rows x 2 columns]\n"
     ]
    }
   ],
   "source": [
    "s3_path = 's3://hugging-face-uci-dataset/training/newsCorpora.csv'\n",
    "df = pd.read_csv(s3_path, sep='\\t',names=['ID','TITLE','URL','PUBLISHER','CATEGORY','STORY','HOSTNAME','TIMESTAMP'])\n",
    "\n",
    "df = df[['TITLE','CATEGORY']]\n",
    "\n",
    "\n",
    "my_dict = {\n",
    "    'e':'Entertainment', # 0\n",
    "    'b':'Business',#1\n",
    "    't':'Science',#2\n",
    "    'm':'Health'#3\n",
    "}\n",
    "\n",
    "def update_cat(x):\n",
    "    return my_dict[x]\n",
    "\n",
    "df['CATEGORY'] = df['CATEGORY'].apply(lambda x:update_cat(x))\n",
    "\n",
    "print(df)"
   ]
  },
  {
   "cell_type": "code",
   "execution_count": null,
   "id": "5532acf3-c2d6-4873-8201-0273c20eeea3",
   "metadata": {},
   "outputs": [],
   "source": [
    "# This is just a tip\n",
    "#df = df.sample(frac=0.05,random_state=1)\n",
    "\n",
    "#df = df.reset_index(drop=True)\n",
    "#This is where the tip ends\n",
    "#df"
   ]
  },
  {
   "cell_type": "code",
   "execution_count": null,
   "id": "ae583eef-3406-44fe-b916-3920aabbd89c",
   "metadata": {},
   "outputs": [],
   "source": []
  }
 ],
 "metadata": {
  "kernelspec": {
   "display_name": "Python 3 (ipykernel)",
   "language": "python",
   "name": "python3"
  },
  "language_info": {
   "codemirror_mode": {
    "name": "ipython",
    "version": 3
   },
   "file_extension": ".py",
   "mimetype": "text/x-python",
   "name": "python",
   "nbconvert_exporter": "python",
   "pygments_lexer": "ipython3",
   "version": "3.11.11"
  }
 },
 "nbformat": 4,
 "nbformat_minor": 5
}
